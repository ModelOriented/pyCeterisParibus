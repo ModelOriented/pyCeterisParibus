{
 "cells": [
  {
   "cell_type": "markdown",
   "metadata": {},
   "source": [
    "# Ceteris Paribus cheatsheet"
   ]
  },
  {
   "cell_type": "markdown",
   "metadata": {},
   "source": [
    "### Prepare dataset"
   ]
  },
  {
   "cell_type": "code",
   "execution_count": 1,
   "metadata": {},
   "outputs": [],
   "source": [
    "import pandas as pd\n",
    "from ceteris_paribus.datasets import DATASETS_DIR\n",
    "import os\n",
    "\n",
    "df = pd.read_csv(os.path.join(DATASETS_DIR, 'insurance.csv'))\n",
    "\n",
    "df = df[['age', 'bmi', 'children', 'charges']]\n",
    "\n",
    "x = df.drop(['charges'], inplace=False, axis=1)\n",
    "y = df['charges']\n",
    "var_names = list(x.columns)\n",
    "x = x.values\n",
    "y = y.values"
   ]
  },
  {
   "cell_type": "markdown",
   "metadata": {},
   "source": [
    "### Prepare regression models"
   ]
  },
  {
   "cell_type": "code",
   "execution_count": 2,
   "metadata": {},
   "outputs": [],
   "source": [
    "from sklearn.linear_model import LinearRegression\n",
    "from sklearn import ensemble, svm\n",
    "\n",
    "def linear_regression_model():\n",
    "    linear_model = LinearRegression()\n",
    "    linear_model.fit(x, y)\n",
    "    # model, data, labels, variable_names\n",
    "    return linear_model, x, y, var_names\n",
    "\n",
    "\n",
    "def gradient_boosting_model():\n",
    "    gb_model = ensemble.GradientBoostingRegressor(n_estimators=1000, random_state=42)\n",
    "    gb_model.fit(x, y)\n",
    "    return gb_model, x, y, var_names\n",
    "\n",
    "\n",
    "def supported_vector_machines_model():\n",
    "    svm_model = svm.SVR(C=0.01, gamma='scale', kernel='poly')\n",
    "    svm_model.fit(x, y)\n",
    "    return svm_model, x, y, var_names"
   ]
  },
  {
   "cell_type": "markdown",
   "metadata": {},
   "source": [
    "### Calculate single profile variables"
   ]
  },
  {
   "cell_type": "code",
   "execution_count": 3,
   "metadata": {},
   "outputs": [
    {
     "name": "stderr",
     "output_type": "stream",
     "text": [
      "WARNING:root:Model is unlabeled... \n",
      " You can add label using method set_label\n"
     ]
    },
    {
     "data": {
      "text/html": [
       "\n",
       "        <iframe\n",
       "            width=\"660\"\n",
       "            height=\"550\"\n",
       "            src=\"../../ceteris_env/lib/python3.5/site-packages/ceteris_paribus/plots/plots0.html\"\n",
       "            frameborder=\"0\"\n",
       "            allowfullscreen\n",
       "        ></iframe>\n",
       "        "
      ],
      "text/plain": [
       "<IPython.lib.display.IFrame at 0x7f2850026588>"
      ]
     },
     "metadata": {},
     "output_type": "display_data"
    }
   ],
   "source": [
    "from ceteris_paribus.explainer import explain\n",
    "from ceteris_paribus.plots.plots import plot_notebook\n",
    "from ceteris_paribus.profiles import individual_variable_profile\n",
    "\n",
    "(gb_model, data, labels, variable_names) = gradient_boosting_model()\n",
    "\n",
    "explainer_gb = explain(gb_model, variable_names, data, y)\n",
    "\n",
    "cp_1 = individual_variable_profile(explainer_gb, x[0], y[0])\n",
    "plot_notebook(cp_1, selected_variables=[\"bmi\"], print_observations=False)"
   ]
  },
  {
   "cell_type": "markdown",
   "metadata": {},
   "source": [
    "### Local fit plots"
   ]
  },
  {
   "cell_type": "code",
   "execution_count": 4,
   "metadata": {},
   "outputs": [],
   "source": [
    "(svm_model, _, _, _) = supported_vector_machines_model()\n",
    "(linear_model, data, labels, variable_names) = linear_regression_model()\n",
    "\n",
    "explainer_linear = explain(linear_model, variable_names, data, y, label='linear_model')\n",
    "explainer_svm = explain(svm_model, variable_names, data, y, label='svm_model')"
   ]
  },
  {
   "cell_type": "code",
   "execution_count": 5,
   "metadata": {},
   "outputs": [
    {
     "data": {
      "text/html": [
       "\n",
       "        <iframe\n",
       "            width=\"660\"\n",
       "            height=\"550\"\n",
       "            src=\"../../ceteris_env/lib/python3.5/site-packages/ceteris_paribus/plots/plots1.html\"\n",
       "            frameborder=\"0\"\n",
       "            allowfullscreen\n",
       "        ></iframe>\n",
       "        "
      ],
      "text/plain": [
       "<IPython.lib.display.IFrame at 0x7f284ffedf98>"
      ]
     },
     "metadata": {},
     "output_type": "display_data"
    }
   ],
   "source": [
    "from ceteris_paribus.select_data import select_neighbours\n",
    "\n",
    "neighbours_x, neighbours_y = select_neighbours(x, x[10], y=y, n=10)\n",
    "cp_2 = individual_variable_profile(explainer_gb,\n",
    "        neighbours_x, neighbours_y)\n",
    "plot_notebook(cp_2, show_residuals=True, selected_variables=[\"age\"], print_observations=False, color_residuals='red', \n",
    "     plot_title='')"
   ]
  },
  {
   "cell_type": "markdown",
   "metadata": {},
   "source": [
    "### Aggregate profiles"
   ]
  },
  {
   "cell_type": "code",
   "execution_count": 6,
   "metadata": {},
   "outputs": [
    {
     "data": {
      "text/html": [
       "\n",
       "        <iframe\n",
       "            width=\"660\"\n",
       "            height=\"550\"\n",
       "            src=\"../../ceteris_env/lib/python3.5/site-packages/ceteris_paribus/plots/plots2.html\"\n",
       "            frameborder=\"0\"\n",
       "            allowfullscreen\n",
       "        ></iframe>\n",
       "        "
      ],
      "text/plain": [
       "<IPython.lib.display.IFrame at 0x7f28a5c67278>"
      ]
     },
     "metadata": {},
     "output_type": "display_data"
    }
   ],
   "source": [
    "plot_notebook(cp_2, aggregate_profiles=\"mean\", selected_variables=[\"age\"], color_pdps='black', size_pdps=6,\n",
    "     alpha_pdps=0.7, print_observations=False,\n",
    "     plot_title='')"
   ]
  },
  {
   "cell_type": "markdown",
   "metadata": {},
   "source": [
    "### Many variables"
   ]
  },
  {
   "cell_type": "code",
   "execution_count": 7,
   "metadata": {},
   "outputs": [
    {
     "data": {
      "text/html": [
       "\n",
       "        <iframe\n",
       "            width=\"990\"\n",
       "            height=\"550\"\n",
       "            src=\"../../ceteris_env/lib/python3.5/site-packages/ceteris_paribus/plots/plots3.html\"\n",
       "            frameborder=\"0\"\n",
       "            allowfullscreen\n",
       "        ></iframe>\n",
       "        "
      ],
      "text/plain": [
       "<IPython.lib.display.IFrame at 0x7f284ff79668>"
      ]
     },
     "metadata": {},
     "output_type": "display_data"
    }
   ],
   "source": [
    "plot_notebook(cp_1, selected_variables=[\"bmi\", \"age\", \"children\"], print_observations=False, plot_title='', width=900)"
   ]
  },
  {
   "cell_type": "markdown",
   "metadata": {},
   "source": [
    "### Many models"
   ]
  },
  {
   "cell_type": "code",
   "execution_count": 8,
   "metadata": {},
   "outputs": [
    {
     "data": {
      "text/html": [
       "\n",
       "        <iframe\n",
       "            width=\"935\"\n",
       "            height=\"550\"\n",
       "            src=\"../../ceteris_env/lib/python3.5/site-packages/ceteris_paribus/plots/plots4.html\"\n",
       "            frameborder=\"0\"\n",
       "            allowfullscreen\n",
       "        ></iframe>\n",
       "        "
      ],
      "text/plain": [
       "<IPython.lib.display.IFrame at 0x7f28a5c64550>"
      ]
     },
     "metadata": {},
     "output_type": "display_data"
    }
   ],
   "source": [
    "cp_svm = individual_variable_profile(explainer_svm, x[0], y[0])\n",
    "cp_linear = individual_variable_profile(explainer_linear, x[0], y[0])\n",
    "plot_notebook(cp_1, cp_svm, cp_linear, print_observations=False, plot_title='', width=850, size=3, alpha=0.7)"
   ]
  },
  {
   "cell_type": "markdown",
   "metadata": {},
   "source": [
    "### Color by feature"
   ]
  },
  {
   "cell_type": "code",
   "execution_count": 9,
   "metadata": {},
   "outputs": [
    {
     "data": {
      "text/html": [
       "\n",
       "        <iframe\n",
       "            width=\"990\"\n",
       "            height=\"550\"\n",
       "            src=\"../../ceteris_env/lib/python3.5/site-packages/ceteris_paribus/plots/plots5.html\"\n",
       "            frameborder=\"0\"\n",
       "            allowfullscreen\n",
       "        ></iframe>\n",
       "        "
      ],
      "text/plain": [
       "<IPython.lib.display.IFrame at 0x7f284ffbf908>"
      ]
     },
     "metadata": {},
     "output_type": "display_data"
    }
   ],
   "source": [
    "plot_notebook(cp_2, color=\"age\", plot_title='', width=900, size=3)"
   ]
  },
  {
   "cell_type": "markdown",
   "metadata": {},
   "source": [
    "### Prepare classification example"
   ]
  },
  {
   "cell_type": "code",
   "execution_count": 10,
   "metadata": {},
   "outputs": [],
   "source": [
    "from sklearn.datasets import load_iris\n",
    "from sklearn.ensemble import RandomForestClassifier\n",
    "iris = load_iris()\n",
    "\n",
    "def random_forest_classifier():\n",
    "    rf_model = ensemble.RandomForestClassifier(n_estimators=100, random_state=42)\n",
    "\n",
    "    rf_model.fit(iris['data'], iris['target'])\n",
    "\n",
    "    return rf_model, iris['data'], iris['target'], iris['feature_names']"
   ]
  },
  {
   "cell_type": "code",
   "execution_count": 11,
   "metadata": {},
   "outputs": [],
   "source": [
    "rf_model, iris_x, iris_y, iris_var_names = random_forest_classifier()\n",
    "\n",
    "explainer_rf1 = explain(rf_model, iris_var_names, iris_x, iris_y,\n",
    "                       predict_function= lambda X: rf_model.predict_proba(X)[::, 0], label=iris.target_names[0])\n",
    "explainer_rf2 = explain(rf_model, iris_var_names, iris_x, iris_y,\n",
    "                       predict_function= lambda X: rf_model.predict_proba(X)[::, 1], label=iris.target_names[1])\n",
    "explainer_rf3 = explain(rf_model, iris_var_names, iris_x, iris_y,\n",
    "                       predict_function= lambda X: rf_model.predict_proba(X)[::, 2], label=iris.target_names[2])\n",
    "\n",
    "\n",
    "cp_rf1 = individual_variable_profile(explainer_rf1, iris_x[0], iris_y[0])\n",
    "cp_rf2 = individual_variable_profile(explainer_rf2, iris_x[0], iris_y[0])\n",
    "cp_rf3 = individual_variable_profile(explainer_rf3, iris_x[0], iris_y[0])"
   ]
  },
  {
   "cell_type": "markdown",
   "metadata": {},
   "source": [
    "### Multiclass profiles"
   ]
  },
  {
   "cell_type": "code",
   "execution_count": 14,
   "metadata": {},
   "outputs": [
    {
     "data": {
      "text/html": [
       "\n",
       "        <iframe\n",
       "            width=\"880\"\n",
       "            height=\"330\"\n",
       "            src=\"../../ceteris_env/lib/python3.5/site-packages/ceteris_paribus/plots/plots6.html\"\n",
       "            frameborder=\"0\"\n",
       "            allowfullscreen\n",
       "        ></iframe>\n",
       "        "
      ],
      "text/plain": [
       "<IPython.lib.display.IFrame at 0x7f284ff007b8>"
      ]
     },
     "metadata": {},
     "output_type": "display_data"
    }
   ],
   "source": [
    "plot_notebook(cp_rf1, cp_rf2, cp_rf3, selected_variables=['petal length (cm)', 'petal width (cm)', 'sepal length (cm)'],\n",
    "     plot_title='', print_observations=False, width=800, height=300, size=4, alpha=0.9)"
   ]
  },
  {
   "cell_type": "code",
   "execution_count": null,
   "metadata": {},
   "outputs": [],
   "source": []
  }
 ],
 "metadata": {
  "kernelspec": {
   "display_name": "ceteris",
   "language": "python",
   "name": "ceteris"
  },
  "language_info": {
   "codemirror_mode": {
    "name": "ipython",
    "version": 3
   },
   "file_extension": ".py",
   "mimetype": "text/x-python",
   "name": "python",
   "nbconvert_exporter": "python",
   "pygments_lexer": "ipython3",
   "version": "3.5.2"
  }
 },
 "nbformat": 4,
 "nbformat_minor": 2
}
